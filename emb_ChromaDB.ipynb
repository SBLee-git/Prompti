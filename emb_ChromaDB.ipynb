{
 "cells": [
  {
   "cell_type": "markdown",
   "metadata": {},
   "source": [
    "## json 데이터 로드 후 임베딩 및 chromaDB 저장"
   ]
  },
  {
   "cell_type": "code",
   "execution_count": null,
   "metadata": {},
   "outputs": [
    {
     "name": "stderr",
     "output_type": "stream",
     "text": [
      "c:\\Users\\user\\miniconda3\\envs\\job311\\Lib\\site-packages\\huggingface_hub\\file_download.py:142: UserWarning: `huggingface_hub` cache-system uses symlinks by default to efficiently store duplicated files but your machine does not support them in C:\\Users\\user\\.cache\\huggingface\\hub\\models--nlpai-lab--KURE-v1. Caching files will still work but in a degraded version that might require more space on your disk. This warning can be disabled by setting the `HF_HUB_DISABLE_SYMLINKS_WARNING` environment variable. For more details, see https://huggingface.co/docs/huggingface_hub/how-to-cache#limitations.\n",
      "To support symlinks on Windows, you either need to activate Developer Mode or to run Python as an administrator. In order to activate developer mode, see this article: https://docs.microsoft.com/en-us/windows/apps/get-started/enable-your-device-for-development\n",
      "  warnings.warn(message)\n"
     ]
    },
    {
     "name": "stdout",
     "output_type": "stream",
     "text": [
      "✅ 1/3번째 (NLP AI 엔지니어) 임베딩 & 저장 완료\n",
      "✅ 2/3번째 (AI 사업계획서/제안서 작성 담당자) 임베딩 & 저장 완료\n",
      "✅ 3/3번째 (AI솔루션 영업직) 임베딩 & 저장 완료\n",
      "\n",
      "모든 공고 임베딩 & ChromaDB 저장이 완료되었습니다.\n"
     ]
    }
   ],
   "source": [
    "import os\n",
    "import json\n",
    "import chromadb\n",
    "from chromadb.config import Settings\n",
    "from sentence_transformers import SentenceTransformer\n",
    "from langchain.text_splitter import RecursiveCharacterTextSplitter\n",
    "\n",
    "def embed_and_store_chromadb(json_path, chroma_path):\n",
    "    \"\"\"\n",
    "    - json_path:  위에서 저장된 JSON 파일 경로\n",
    "    - chroma_path: ChromaDB를 저장할 로컬 폴더 경로\n",
    "    \"\"\"\n",
    "\n",
    "    # 1) ChromaDB 초기화 (PersistentClient)\n",
    "    client = chromadb.PersistentClient(path=chroma_path)\n",
    "    collection = client.get_or_create_collection(name=\"wanted_jobs\")\n",
    "\n",
    "    # 2) SentenceTransformer 모델 로드\n",
    "    #  \n",
    "    embedding_model = SentenceTransformer(\"nlpai-lab/KURE-v1\")\n",
    "\n",
    "    # 3) Text Splitter 설정\n",
    "    #    chunk_size, chunk_overlap은 필요에 따라 조정\n",
    "    text_splitter = RecursiveCharacterTextSplitter(\n",
    "        chunk_size=512,\n",
    "        chunk_overlap=50\n",
    "    )\n",
    "\n",
    "    # 4) JSON 파일 읽기\n",
    "    with open(json_path, \"r\", encoding=\"utf-8\") as f:\n",
    "        jobs = json.load(f)  # 리스트 형태\n",
    "\n",
    "    # 5) 각 Job(공고)마다 임베딩 → ChromaDB 저장\n",
    "    for idx, job in enumerate(jobs):\n",
    "        position_name = job.get(\"PositionName\", \"N/A\")\n",
    "        experience = job.get(\"Experience\", \"N/A\")\n",
    "\n",
    "        # 섹션별 필드 정의 (필요하다면 더 많은 필드를 추가할 수도 있음)\n",
    "        sections = [\"MainTask\", \"Qualification\", \"Preferred\"]\n",
    "\n",
    "        for section in sections:\n",
    "            raw_text = job.get(section, \"\").strip()\n",
    "            if not raw_text:\n",
    "                # 만약 해당 섹션이 비어 있으면 스킵\n",
    "                continue\n",
    "\n",
    "            # 1) 텍스트 청크 분할\n",
    "            chunks = text_splitter.split_text(raw_text)\n",
    "\n",
    "            # 2) 청크 임베딩\n",
    "            embeddings = embedding_model.encode(chunks).tolist()\n",
    "\n",
    "            # 3) ChromaDB에 저장\n",
    "            for i, chunk in enumerate(chunks):\n",
    "                doc_id = f\"{idx}-{section}-{i}\"  # ex) \"0-MainTask-0\"\n",
    "                collection.add(\n",
    "                    ids=[doc_id],\n",
    "                    documents=[chunk],\n",
    "                    embeddings=[embeddings[i]],\n",
    "                    metadatas=[{\n",
    "                        \"PositionName\": position_name,\n",
    "                        \"Experience\": experience,\n",
    "                        \"Section\": section  # \"MainTask\", \"Qualification\", \"Preferred\"\n",
    "                    }]\n",
    "                )\n",
    "\n",
    "        print(f\"✅ {idx+1}/{len(jobs)}번째 ({position_name}) 임베딩 & 저장 완료\")\n",
    "\n",
    "    print(\"\\n모든 공고 임베딩 & ChromaDB 저장이 완료되었습니다.\")\n",
    "\n",
    "json_path = \"./jobs.json\"       # 크롤링 후 저장된 JSON 경로\n",
    "chroma_db_path = \"./chroma/chroma_db\"  # ChromaDB 폴더 경로\n",
    "    \n",
    "embed_and_store_chromadb(json_path, chroma_db_path)"
   ]
  }
 ],
 "metadata": {
  "kernelspec": {
   "display_name": "job311",
   "language": "python",
   "name": "python3"
  },
  "language_info": {
   "codemirror_mode": {
    "name": "ipython",
    "version": 3
   },
   "file_extension": ".py",
   "mimetype": "text/x-python",
   "name": "python",
   "nbconvert_exporter": "python",
   "pygments_lexer": "ipython3",
   "version": "3.11.11"
  }
 },
 "nbformat": 4,
 "nbformat_minor": 2
}
